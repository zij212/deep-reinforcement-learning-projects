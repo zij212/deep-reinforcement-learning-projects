{
 "cells": [
  {
   "cell_type": "markdown",
   "metadata": {},
   "source": [
    "# Tennis Environment"
   ]
  },
  {
   "cell_type": "code",
   "execution_count": 1,
   "metadata": {},
   "outputs": [],
   "source": [
    "%load_ext autoreload\n",
    "%autoreload 2\n",
    "%config Completer.use_jedi = False"
   ]
  },
  {
   "cell_type": "code",
   "execution_count": 2,
   "metadata": {},
   "outputs": [],
   "source": [
    "from unityagents import UnityEnvironment\n",
    "import numpy as np\n",
    "from datetime import datetime"
   ]
  },
  {
   "cell_type": "code",
   "execution_count": 3,
   "metadata": {},
   "outputs": [
    {
     "name": "stderr",
     "output_type": "stream",
     "text": [
      "INFO:unityagents:\n",
      "'Academy' started successfully!\n",
      "Unity Academy name: Academy\n",
      "        Number of Brains: 1\n",
      "        Number of External Brains : 1\n",
      "        Lesson number : 0\n",
      "        Reset Parameters :\n",
      "\t\t\n",
      "Unity brain name: TennisBrain\n",
      "        Number of Visual Observations (per agent): 0\n",
      "        Vector Observation space type: continuous\n",
      "        Vector Observation space size (per agent): 8\n",
      "        Number of stacked Vector Observation: 3\n",
      "        Vector Action space type: continuous\n",
      "        Vector Action space size (per agent): 2\n",
      "        Vector Action descriptions: , \n"
     ]
    }
   ],
   "source": [
    "env = UnityEnvironment(\n",
    "    file_name=\"./Tennis.app\")"
   ]
  },
  {
   "cell_type": "code",
   "execution_count": 4,
   "metadata": {},
   "outputs": [],
   "source": [
    "brain_name = env.brain_names[0]\n",
    "brain = env.brains[brain_name]"
   ]
  },
  {
   "cell_type": "code",
   "execution_count": 5,
   "metadata": {},
   "outputs": [
    {
     "name": "stdout",
     "output_type": "stream",
     "text": [
      "Number of agents: 2\n",
      "Size of each action: 2\n",
      "There are 2 agents. Each observes a state with length: 24\n",
      "The state for the first agent looks like: [ 0.          0.          0.          0.          0.          0.\n",
      "  0.          0.          0.          0.          0.          0.\n",
      "  0.          0.          0.          0.         -6.65278625 -1.5\n",
      " -0.          0.          6.83172083  6.         -0.          0.        ]\n"
     ]
    }
   ],
   "source": [
    "# reset the environment\n",
    "env_info = env.reset(train_mode=True)[brain_name]\n",
    "\n",
    "# number of agents \n",
    "num_agents = len(env_info.agents)\n",
    "print('Number of agents:', num_agents)\n",
    "\n",
    "# size of each action\n",
    "action_size = brain.vector_action_space_size\n",
    "print('Size of each action:', action_size)\n",
    "\n",
    "# examine the state space \n",
    "states = env_info.vector_observations\n",
    "state_size = states.shape[1]\n",
    "print('There are {} agents. Each observes a state with length: {}'.format(states.shape[0], state_size))\n",
    "print('The state for the first agent looks like:', states[0])"
   ]
  },
  {
   "cell_type": "markdown",
   "metadata": {},
   "source": [
    "# Algorithm\n",
    "\n",
    "For this project, I used the MADDPG decribed in the [Multi-Agent Actor-Critic for Mixed Cooperative-Competitive Environments](https://arxiv.org/pdf/1706.02275.pdf) paper.\n",
    "\n",
    "![maddpg](./MADDPG_algorithm.png)\n",
    "\n",
    "\n"
   ]
  },
  {
   "cell_type": "markdown",
   "metadata": {},
   "source": [
    "## Hyperparameters"
   ]
  },
  {
   "cell_type": "code",
   "execution_count": 6,
   "metadata": {},
   "outputs": [],
   "source": [
    "args = {\n",
    "    'num_agents': 2,\n",
    "    'state_dim': [24, 24],\n",
    "    'action_dim': [2, 2],\n",
    "    'max_action': 1,\n",
    "    'max_len': int(1e6),\n",
    "    'update_freq': 1,\n",
    "    'tau': 0.01,\n",
    "    'gamma': 0.99,\n",
    "    'batch_size': 100,\n",
    "    'actor_lr': 1e-3,\n",
    "    'critic_lr': 1e-3,\n",
    "    'noise_scale': 0.1,\n",
    "    'noise_theta': 0.2,\n",
    "    'noise_sigma': 0.2,\n",
    "}"
   ]
  },
  {
   "cell_type": "markdown",
   "metadata": {},
   "source": [
    "## Agents' Actor and Critic Network Architecture"
   ]
  },
  {
   "cell_type": "code",
   "execution_count": 7,
   "metadata": {},
   "outputs": [],
   "source": [
    "from MADDPG import MADDPG\n",
    "multiagent = MADDPG(args)"
   ]
  },
  {
   "cell_type": "markdown",
   "metadata": {},
   "source": [
    "The value of states can range a lot, so we are adding batch normalization to Actor before each fully connected layer. We also batch normalize state in the Critic, before joining it with actions."
   ]
  },
  {
   "cell_type": "code",
   "execution_count": 8,
   "metadata": {},
   "outputs": [
    {
     "data": {
      "text/plain": [
       "Actor(\n",
       "  (network): Sequential(\n",
       "    (0): BatchNorm1d(24, eps=1e-05, momentum=0.1, affine=True, track_running_stats=True)\n",
       "    (1): Linear(in_features=24, out_features=256, bias=True)\n",
       "    (2): ReLU()\n",
       "    (3): BatchNorm1d(256, eps=1e-05, momentum=0.1, affine=True, track_running_stats=True)\n",
       "    (4): Linear(in_features=256, out_features=256, bias=True)\n",
       "    (5): ReLU()\n",
       "    (6): BatchNorm1d(256, eps=1e-05, momentum=0.1, affine=True, track_running_stats=True)\n",
       "    (7): Linear(in_features=256, out_features=2, bias=True)\n",
       "    (8): Tanh()\n",
       "  )\n",
       ")"
      ]
     },
     "execution_count": 8,
     "metadata": {},
     "output_type": "execute_result"
    }
   ],
   "source": [
    "multiagent.agents[1].actor"
   ]
  },
  {
   "cell_type": "code",
   "execution_count": 9,
   "metadata": {},
   "outputs": [
    {
     "data": {
      "text/plain": [
       "Critic(\n",
       "  (normalize_state): BatchNorm1d(48, eps=1e-05, momentum=0.1, affine=True, track_running_stats=True)\n",
       "  (network): Sequential(\n",
       "    (0): Linear(in_features=52, out_features=256, bias=True)\n",
       "    (1): ReLU()\n",
       "    (2): Linear(in_features=256, out_features=256, bias=True)\n",
       "    (3): ReLU()\n",
       "    (4): Linear(in_features=256, out_features=1, bias=True)\n",
       "  )\n",
       ")"
      ]
     },
     "execution_count": 9,
     "metadata": {},
     "output_type": "execute_result"
    }
   ],
   "source": [
    "# the critic has access to all agents' state and action\n",
    "multiagent.agents[1].critic"
   ]
  },
  {
   "cell_type": "code",
   "execution_count": 10,
   "metadata": {
    "scrolled": false
   },
   "outputs": [
    {
     "name": "stdout",
     "output_type": "stream",
     "text": [
      "Episode 100, Timestep: 1932, Last 100,  Eps Avg Reward: 0.0224, Time (sec): 4 \n",
      "Episode 200, Timestep: 3673, Last 100,  Eps Avg Reward: 0.0118, Time (sec): 3 \n",
      "Episode 300, Timestep: 5528, Last 100,  Eps Avg Reward: 0.0184, Time (sec): 4 \n",
      "Episode 400, Timestep: 7254, Last 100,  Eps Avg Reward: 0.0158, Time (sec): 4 \n",
      "Episode 500, Timestep: 9109, Last 100,  Eps Avg Reward: 0.0200, Time (sec): 4 \n",
      "Episode 600, Timestep: 10944, Last 100,  Eps Avg Reward: 0.0174, Time (sec): 5 \n",
      "Episode 700, Timestep: 12773, Last 100,  Eps Avg Reward: 0.0194, Time (sec): 5 \n",
      "Episode 800, Timestep: 14526, Last 100,  Eps Avg Reward: 0.0156, Time (sec): 4 \n",
      "Episode 900, Timestep: 16371, Last 100,  Eps Avg Reward: 0.0193, Time (sec): 5 \n",
      "Episode 1000, Timestep: 18100, Last 100,  Eps Avg Reward: 0.0116, Time (sec): 5 \n",
      "Episode 1100, Timestep: 19842, Last 100,  Eps Avg Reward: 0.0145, Time (sec): 5 \n",
      "Episode 1200, Timestep: 21698, Last 100,  Eps Avg Reward: 0.0190, Time (sec): 5 \n",
      "Episode 1300, Timestep: 23616, Last 100,  Eps Avg Reward: 0.0203, Time (sec): 6 \n",
      "Episode 1400, Timestep: 25383, Last 100,  Eps Avg Reward: 0.0163, Time (sec): 5 \n",
      "Episode 1500, Timestep: 27330, Last 100,  Eps Avg Reward: 0.0203, Time (sec): 5 \n",
      "Episode 1600, Timestep: 28967, Last 100,  Eps Avg Reward: 0.0107, Time (sec): 4 \n",
      "Episode 1700, Timestep: 30659, Last 100,  Eps Avg Reward: 0.0126, Time (sec): 34 \n",
      "Episode 1800, Timestep: 32670, Last 100,  Eps Avg Reward: 0.0219, Time (sec): 96 \n",
      "Episode 1900, Timestep: 36499, Last 100,  Eps Avg Reward: 0.0980, Time (sec): 176 \n",
      "Episode 2000, Timestep: 66196, Last 100,  Eps Avg Reward: 0.7738, Time (sec): 1616 \n"
     ]
    }
   ],
   "source": [
    "# reset environment\n",
    "env_info = env.reset(train_mode=True)[brain_name] \n",
    "state, done = env_info.vector_observations, False\n",
    "\n",
    "# total reward of an episode for all agents\n",
    "episode_reward = np.zeros(args['num_agents'])\n",
    "# number of timesteps within an episode\n",
    "episode_timesteps = 0\n",
    "# numer of episodes\n",
    "episode_num = 0\n",
    "# list of total rewards of each episode (max of the two agens)\n",
    "scores = []\n",
    "\n",
    "print_every = 100\n",
    "\n",
    "max_timesteps = 1e6\n",
    "start_timesteps = 3e4\n",
    "\n",
    "start = datetime.now()\n",
    "for t in range(int(max_timesteps)):\n",
    "    \n",
    "    episode_timesteps += 1\n",
    "    \n",
    "    if t < start_timesteps:\n",
    "        action = np.random.uniform(low=-1,high=1,size=args['action_dim'])\n",
    "    else:\n",
    "        action = multiagent.sample_action(state, noise=1)\n",
    "    \n",
    "    env_info = env.step(action)[brain_name]\n",
    "    \n",
    "    next_state = env_info.vector_observations\n",
    "    reward = env_info.rewards\n",
    "    done = env_info.local_done           \n",
    "    \n",
    "    multiagent.add_experience(state, action, reward, next_state, done)\n",
    "\n",
    "    \n",
    "    state = next_state\n",
    "    episode_reward += reward\n",
    "\n",
    "    if t > start_timesteps and t % args['update_freq']  == 0:\n",
    "        multiagent.train()\n",
    "    \n",
    "    if any(done):\n",
    "        \n",
    "        # reset environment\n",
    "        env_info = env.reset(train_mode=True)[brain_name] \n",
    "        state, done = env_info.vector_observations, False\n",
    "        \n",
    "        episode_num += 1\n",
    "        scores.append(np.max(episode_reward))\n",
    "        \n",
    "        if episode_num % print_every == 0:\n",
    "            rolling_avg = np.mean(scores[-print_every:])\n",
    "            time_spent = (datetime.now() - start).seconds\n",
    "            print(f\"Episode {episode_num}, Timestep: {t}, Last {print_every} Eps Avg Reward: {rolling_avg:.04f}, Time (sec): {time_spent} \")\n",
    "            start = datetime.now()\n",
    "            if rolling_avg > 0.7:\n",
    "                break\n",
    "        \n",
    "        episode_reward = np.zeros(args['num_agents'])\n",
    "        episode_timesteps = 0    "
   ]
  },
  {
   "cell_type": "code",
   "execution_count": 11,
   "metadata": {},
   "outputs": [],
   "source": [
    "multiagent.save()\n",
    "# multiagent = MADDPG(args)\n",
    "# multiagent.load()"
   ]
  },
  {
   "cell_type": "markdown",
   "metadata": {},
   "source": [
    "# Results\n",
    "\n",
    "During the intial 30000 timesteps (roughly 1700 episodes), the agent is acting on uniformly sampled actions.   \n",
    "Starting from timestep 30000, it trains on experiences tuple saved in the replay buffer"
   ]
  },
  {
   "cell_type": "code",
   "execution_count": 12,
   "metadata": {},
   "outputs": [
    {
     "data": {
      "image/png": "[encoded data removed]",
      "text/plain": [
       "<Figure size 432x288 with 1 Axes>"
      ]
     },
     "metadata": {
      "needs_background": "light"
     },
     "output_type": "display_data"
    }
   ],
   "source": [
    "import matplotlib.pyplot as plt\n",
    "%matplotlib inline\n",
    "\n",
    "import matplotlib.pyplot as plt\n",
    "import pandas as pd\n",
    "\n",
    "\n",
    "plt.plot(scores, label='MADDPG', alpha=0.5)\n",
    "plt.plot(pd.Series(scores).rolling(100).mean(), '--', label='MADDPG rolling avg', color='red')\n",
    "plt.title('Average score of rolling 100 episodes window')\n",
    "plt.legend()\n",
    "plt.show()"
   ]
  },
  {
   "cell_type": "markdown",
   "metadata": {},
   "source": [
    "The agent started training on experience tuple around episode 1700. By episode 2000, the last 100 episode's average score is 0.77"
   ]
  },
  {
   "cell_type": "markdown",
   "metadata": {},
   "source": [
    "# Watch the Agents Play"
   ]
  },
  {
   "cell_type": "code",
   "execution_count": 17,
   "metadata": {},
   "outputs": [
    {
     "name": "stdout",
     "output_type": "stream",
     "text": [
      "Total score (averaged over agents) this episode: 2.600000038743019\n"
     ]
    }
   ],
   "source": [
    "env_info = env.reset(train_mode=True)[brain_name]     # reset the environment    \n",
    "states = env_info.vector_observations                  # get the current state (for each agent)\n",
    "score = np.zeros(num_agents)                          # initialize the score (for each agent)\n",
    "while True:\n",
    "\n",
    "    actions = multiagent.sample_action(states) # select an action (for each agent)\n",
    "    actions = np.clip(actions, -1, 1)                  # all actions between -1 and 1\n",
    "    env_info = env.step(actions)[brain_name]           # send all actions to tne environment\n",
    "    next_states = env_info.vector_observations         # get next state (for each agent)\n",
    "    rewards = env_info.rewards                         # get reward (for each agent)\n",
    "    dones = env_info.local_done                        # see if episode finished\n",
    "    score += env_info.rewards                         # update the score (for each agent)\n",
    "    states = next_states                               # roll over states to next time step\n",
    "    if np.any(dones): \n",
    "        # exit loop if episode finished\n",
    "        break\n",
    "print('Total score (averaged over agents) this episode: {}'.format(np.mean(score)))"
   ]
  },
  {
   "cell_type": "code",
   "execution_count": 19,
   "metadata": {},
   "outputs": [
    {
     "name": "stdout",
     "output_type": "stream",
     "text": [
      "Total score (averaged over agents) this episode: 2.650000039488077\n"
     ]
    }
   ],
   "source": [
    "env_info = env.reset(train_mode=False)[brain_name]     # reset the environment    \n",
    "states = env_info.vector_observations                  # get the current state (for each agent)\n",
    "score = np.zeros(num_agents)                          # initialize the score (for each agent)\n",
    "while True:\n",
    "\n",
    "    actions = multiagent.sample_action(states) # select an action (for each agent)\n",
    "    actions = np.clip(actions, -1, 1)                  # all actions between -1 and 1\n",
    "    env_info = env.step(actions)[brain_name]           # send all actions to tne environment\n",
    "    next_states = env_info.vector_observations         # get next state (for each agent)\n",
    "    rewards = env_info.rewards                         # get reward (for each agent)\n",
    "    dones = env_info.local_done                        # see if episode finished\n",
    "    score += env_info.rewards                         # update the score (for each agent)\n",
    "    states = next_states                               # roll over states to next time step\n",
    "    if np.any(dones): \n",
    "        # exit loop if episode finished\n",
    "        break\n",
    "print('Total score (averaged over agents) this episode: {}'.format(np.mean(score)))"
   ]
  },
  {
   "cell_type": "code",
   "execution_count": 21,
   "metadata": {},
   "outputs": [
    {
     "data": {
      "image/jpeg": "[encoded data removed]",
      "text/html": [
       "\n",
       "        <iframe\n",
       "            width=\"400\"\n",
       "            height=\"300\"\n",
       "            src=\"https://www.youtube.com/embed/LOTFwcljYbw\"\n",
       "            frameborder=\"0\"\n",
       "            allowfullscreen\n",
       "        ></iframe>\n",
       "        "
      ],
      "text/plain": [
       "<IPython.lib.display.YouTubeVideo at 0x7fe11f5253c8>"
      ]
     },
     "execution_count": 21,
     "metadata": {},
     "output_type": "execute_result"
    }
   ],
   "source": [
    "# https://youtu.be/LOTFwcljYbw\n",
    "\n",
    "from IPython.display import YouTubeVideo\n",
    "YouTubeVideo('LOTFwcljYbw')"
   ]
  },
  {
   "cell_type": "markdown",
   "metadata": {},
   "source": [
    "# Future Improvements\n",
    "\n",
    "Given that the two agents' critics are trying to learn the same thing (the value of all agents states, all agents actions), can we build one critic and share it across agents?\n",
    "\n",
    "This [blog post](https://medium.com/brillio-data-science/improving-openai-multi-agent-actor-critic-rl-algorithm-27719f3cafd4) mentioned that using (all agents' states, all other agents' action) in the first layer of of critic network, and adding acting agent's action in the second layer stablize the training. I would like to implement this in the future.\n",
    "\n"
   ]
  }
 ],
 "metadata": {
  "kernelspec": {
   "display_name": "drlnd",
   "language": "python",
   "name": "drlnd"
  },
  "language_info": {
   "codemirror_mode": {
    "name": "ipython",
    "version": 3
   },
   "file_extension": ".py",
   "mimetype": "text/x-python",
   "name": "python",
   "nbconvert_exporter": "python",
   "pygments_lexer": "ipython3",
   "version": "3.6.12"
  }
 },
 "nbformat": 4,
 "nbformat_minor": 4
}
