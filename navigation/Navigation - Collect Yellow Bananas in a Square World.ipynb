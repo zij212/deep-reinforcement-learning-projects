{
 "cells": [
  {
   "cell_type": "markdown",
   "metadata": {},
   "source": [
    "# The Problem\n",
    "\n",
    "In this notebook, we implement a DQN agent to navigate a square world and collect yellow banas as reward.  \n",
    "\n",
    "**state**: conitunous, size=37  \n",
    "**action**: discrete, size=4  \n",
    "**reward**: +1 for yellow bananas, -1 for blue bananas  \n",
    "**task**: episodic, and is considered as solved, when the mean score over 100 episodes reaches 13\n",
    "\n",
    "When interacting with the environment, the agent\n",
    "- observe the current state $S_t$, \n",
    "- make an action $A_t$, \n",
    "- collection the reward $R_{t+1}$, \n",
    "- observe the next state $S_{t+1}$ and get a boolean `done` indicating whether it is the end of the episode. \n",
    "\n",
    "From the experience, the agent should learn a good approximation of the action value function $Q(S_t; A_t)$. \n",
    "\n",
    "\n",
    "# The Solution\n",
    "\n",
    "## Neural Network  \n",
    "\n",
    "In this implementation, we use a neural network with two hidden layers, to estimate the action values for a state.\n",
    "\n",
    "```\n",
    "nn.Sequential(\n",
    "            nn.Linear(state_size, 64),\n",
    "            nn.ReLU(),\n",
    "            nn.Linear(64, 64),\n",
    "            nn.ReLU(),\n",
    "            nn.Linear(64, action_size))\n",
    "\n",
    "```\n",
    "\n",
    "## Loss Function\n",
    "\n",
    "Naturally, we would want to minimize the MSE, \n",
    "\n",
    "$J(\\theta) = [ Q(S_t, A_t) - \\hat{Q}(S_t, A_t, \\theta) ]^2$,\n",
    "\n",
    "by updating the weights with the negative gradient of the loss function,\n",
    "\n",
    "$\\theta \\to \\theta - \\alpha \\nabla_{\\theta} J(\\theta)$\n",
    "\n",
    "\n",
    "But the true action value function $Q(S_t; A_t)$ is unknown, so we will use **TD-error** instead, where the true action value function is replaced with the **fixed Q-target**,  \n",
    "\n",
    "$J(\\theta) = [ (R_{t+1} + \\gamma * \\max_{a}\\hat{Q}_{target}(S_{t+1}, a; \\theta')) * (1- \\text{done}) - \\hat{Q}(S_t, A_t; \\theta) ]^2$ \n",
    "\n",
    "- The weight $\\theta'$ is mantained in a separate \"target\" neural network (of the same architecture as the \"predictor\" network)\n",
    "- We feed a batch of $(S_t, A_t, R_{t+1}, S_{t+1}, \\text{done})$ through the two networks. Calculate the TD-error, and update the weight of the predictor network, $\\theta$ accordingly.\n",
    "- Note that the operation on the target network should be in `.detach()` mode, since we don't need gradient from it. The weight of the target network, $\\theta'$ is soft updated with the weight of the predictor network, $\\theta$, every few steps: $\\theta' \\to (1-\\tau)\\theta'+\\theta$  \n",
    "\n",
    "\n",
    "## Replay Buffer\n",
    "\n",
    "The current and next state are highly correlated. With online learning, we could be reinforcing over a not so ideal actions or get stuck in a state. \n",
    "\n",
    "To stablize training, we separate out learning and playing. \n",
    "\n",
    "While playing, the agent stores the experience in a buffer (a `deque`, that holds the most recent `n` experience tuples). After a few playing steps, the agent performs one learning step by sampling a small batch of experience tuples uniformly, feed them through the neural networks, and then update the weight of the predictor and the target network. \n",
    "\n",
    "## Agent\n",
    "\n",
    "As described above, the agent has two functions\n",
    "\n",
    "- to play\n",
    "    - sample an action using epsilon-greedy with decay after each episode\n",
    "    - save the playing experience in the replay buffer\n",
    "- and to learn\n",
    "    - sample the past experiences in the replay buffer\n",
    "    - update the neural networks weights to minimize TD-error\n",
    "\n",
    "## Psuedo-code\n",
    "\n",
    "Let's combine every pieces together:\n",
    "\n",
    "\n",
    "```\n",
    "for each episode:\n",
    "\n",
    "    reset the environment and observe starting state S_t\n",
    "    decay the epsilon -> max(epsilon * epsilon_decay, min_epsilon)\n",
    "    \n",
    "    while the episode has not end:\n",
    "    \n",
    "        - agent samples an action using Q(S_t, a \\in A(S_t)) epsilon-greedily\n",
    "        - env steps on the chosen action, and returns next_state, reward, done\n",
    "        - agent saves (state, action, next_state, reward, done) tuple to buffer\n",
    "\n",
    "        every other x time step:\n",
    "        \n",
    "            - agent sampels a batch of experience tuple\n",
    "            - agent feeds the experience to NNs, calculate the loss, update the weights\n",
    "                \n",
    "```\n",
    "\n",
    "\n",
    "# The Implementation\n",
    "\n",
    "Now that we have covered the learning algorithm, we can finally start implementing!\n",
    "\n",
    "At the bottom of this notebook, you can watch my trained agent going bananas at yellow bananas ;)"
   ]
  },
  {
   "cell_type": "code",
   "execution_count": 1,
   "metadata": {},
   "outputs": [],
   "source": [
    "from unityagents import UnityEnvironment\n",
    "import numpy as np"
   ]
  },
  {
   "cell_type": "code",
   "execution_count": 2,
   "metadata": {},
   "outputs": [
    {
     "name": "stderr",
     "output_type": "stream",
     "text": [
      "INFO:unityagents:\n",
      "'Academy' started successfully!\n",
      "Unity Academy name: Academy\n",
      "        Number of Brains: 1\n",
      "        Number of External Brains : 1\n",
      "        Lesson number : 0\n",
      "        Reset Parameters :\n",
      "\t\t\n",
      "Unity brain name: BananaBrain\n",
      "        Number of Visual Observations (per agent): 0\n",
      "        Vector Observation space type: continuous\n",
      "        Vector Observation space size (per agent): 37\n",
      "        Number of stacked Vector Observation: 1\n",
      "        Vector Action space type: discrete\n",
      "        Vector Action space size (per agent): 4\n",
      "        Vector Action descriptions: , , , \n"
     ]
    }
   ],
   "source": [
    "env = UnityEnvironment(\n",
    "    file_name=\"/Users/zinanj/projects/udacity/drlnd/deep-reinforcement-learning/p1_navigation/Banana.app\")"
   ]
  },
  {
   "cell_type": "code",
   "execution_count": 3,
   "metadata": {},
   "outputs": [],
   "source": [
    "brain_name = env.brain_names[0]\n",
    "brain = env.brains[brain_name]"
   ]
  },
  {
   "cell_type": "code",
   "execution_count": 4,
   "metadata": {},
   "outputs": [
    {
     "name": "stdout",
     "output_type": "stream",
     "text": [
      "numer of agents: 1\n",
      "action space: 4\n",
      "state size: 37\n",
      "a sample state: [1.         0.         0.         0.         0.84408134 0.\n",
      " 0.         1.         0.         0.0748472  0.         1.\n",
      " 0.         0.         0.25755    1.         0.         0.\n",
      " 0.         0.74177343 0.         1.         0.         0.\n",
      " 0.25854847 0.         0.         1.         0.         0.09355672\n",
      " 0.         1.         0.         0.         0.31969345 0.\n",
      " 0.        ]\n"
     ]
    }
   ],
   "source": [
    "env_info = env.reset(train_mode=True)[brain_name]\n",
    "print(f'numer of agents: {len(env_info.agents)}')\n",
    "action_size = brain.vector_action_space_size\n",
    "print(f'action space: {action_size}')\n",
    "\n",
    "state = env_info.vector_observations[0]\n",
    "state_size = len(state)\n",
    "print(f'state size: {state_size}')\n",
    "print(f'a sample state: {state}')"
   ]
  },
  {
   "cell_type": "code",
   "execution_count": 6,
   "metadata": {},
   "outputs": [],
   "source": [
    "import torch\n",
    "import torch.nn as nn\n",
    "import numpy as np"
   ]
  },
  {
   "cell_type": "code",
   "execution_count": 7,
   "metadata": {},
   "outputs": [],
   "source": [
    "device = torch.device(\"cuda:0\") if torch.cuda.is_available() else torch.device(\"cpu\")"
   ]
  },
  {
   "cell_type": "code",
   "execution_count": 8,
   "metadata": {},
   "outputs": [],
   "source": [
    "class QNetwork(nn.Module):\n",
    "    def __init__(self, state_size, action_size):\n",
    "        super().__init__()\n",
    "        self.network = nn.Sequential(\n",
    "            nn.Linear(state_size, 64),\n",
    "            nn.ReLU(),\n",
    "            nn.Linear(64, 64),\n",
    "            nn.ReLU(),\n",
    "            nn.Linear(64, action_size)\n",
    "        )\n",
    "        \n",
    "    def forward(self, xb):\n",
    "        return self.network(xb)"
   ]
  },
  {
   "cell_type": "code",
   "execution_count": 9,
   "metadata": {},
   "outputs": [],
   "source": [
    "from collections import namedtuple, deque\n",
    "import random\n",
    "\n",
    "class ReplayBuffer():\n",
    "    def __init__(self, buffer_size, sample_size):\n",
    "        self.buffer = deque(maxlen=buffer_size)\n",
    "        self.sample_size = sample_size\n",
    "        self.experience_factory = namedtuple(\n",
    "            'experience', ['state', 'action', 'reward', 'next_state', 'done'])\n",
    "    \n",
    "    def add(self, state, action, reward, next_state, done):\n",
    "        experience = self.experience_factory(\n",
    "            state, action, reward, next_state, done)\n",
    "        self.buffer.append(experience)\n",
    "    \n",
    "    def sample(self):\n",
    "        if len(self.buffer) < self.sample_size:\n",
    "            raise Exception('sample size is larger than buffer size')\n",
    "            \n",
    "        experiences = random.sample(self.buffer, self.sample_size)\n",
    "        \n",
    "        states = torch.from_numpy(\n",
    "            np.vstack([e.state for e in experiences])).float().to(device)\n",
    "        actions = torch.from_numpy(\n",
    "            np.vstack([e.action for e in experiences])).long().to(device)\n",
    "        rewards = torch.from_numpy(\n",
    "            np.vstack([e.reward for e in experiences])).float().to(device)\n",
    "        next_states = torch.from_numpy(\n",
    "            np.vstack([e.next_state for e in experiences])).float().to(device)\n",
    "        dones = torch.from_numpy(\n",
    "            np.vstack([e.done for e in experiences]).astype(np.uint8)).float().to(device)\n",
    "        \n",
    "        return states, actions, rewards, next_states, dones\n",
    "    \n",
    "    def __len__(self):\n",
    "        return len(self.buffer)\n",
    "    \n",
    "    def __repr__(self):\n",
    "        return str(self.buffer)"
   ]
  },
  {
   "cell_type": "code",
   "execution_count": 10,
   "metadata": {},
   "outputs": [],
   "source": [
    "BUFFER_SIZE = int(1e5)\n",
    "SAMPLE_SIZE = 64\n",
    "LR = 5e-4\n",
    "GAMMA = 0.99\n",
    "TAU = 1e-3\n",
    "UPDATE_EVERY = 4"
   ]
  },
  {
   "cell_type": "code",
   "execution_count": 11,
   "metadata": {},
   "outputs": [],
   "source": [
    "import torch.nn.functional as F\n",
    "import torch.optim as optim"
   ]
  },
  {
   "cell_type": "code",
   "execution_count": 12,
   "metadata": {},
   "outputs": [],
   "source": [
    "class Agent():\n",
    "    def __init__(self, state_size, action_size):\n",
    "        self.state_size = state_size\n",
    "        self.action_size = action_size\n",
    "        self.buffer = ReplayBuffer(BUFFER_SIZE, SAMPLE_SIZE)\n",
    "        \n",
    "        self.q_pred_network = QNetwork(state_size, action_size).to(device)\n",
    "        self.q_target_network = QNetwork(state_size, action_size).to(device)\n",
    "        self.optimizer = optim.Adam(self.q_pred_network.parameters(), lr=LR)\n",
    "        \n",
    "        self.t_step = 0\n",
    "    \n",
    "    def sample(self, state, eps):\n",
    "        state = torch.from_numpy(state).float().unsqueeze(0).to(device)\n",
    "        \n",
    "        if np.random.uniform(0, 1) > eps:\n",
    "            self.q_pred_network.eval()\n",
    "            with torch.no_grad():\n",
    "                action_values = self.q_pred_network(state)\n",
    "            self.q_pred_network.train()\n",
    "            return np.argmax(action_values.cpu().data.numpy())\n",
    "        else:\n",
    "            return np.random.choice(np.arange(action_size))\n",
    "    \n",
    "    def step(self, state, action, reward, next_state, done):\n",
    "        self.buffer.add(state, action, reward, next_state, done)\n",
    "        \n",
    "        self.t_step = (self.t_step + 1) % UPDATE_EVERY\n",
    "        if self.t_step == 0:\n",
    "            if len(self.buffer) > SAMPLE_SIZE:\n",
    "                experiences = self.buffer.sample()\n",
    "                self.learn(experiences, GAMMA) \n",
    "         \n",
    "    def learn(self, experiences, gamma):        \n",
    "        states, actions, rewards, next_states, dones = experiences\n",
    "        \n",
    "        # Q_{target}(S_t,A_t) = r + \\gamma * max_{a', a' \\in A(S_{t+1})}Q(S_{t+1}, a') * (1 - done)\n",
    "        Q_next_states = self.q_target_network(next_states).detach().max(1)[0].unsqueeze(1)\n",
    "        Q_targets = rewards + (gamma * Q_next_states * (1 - dones))\n",
    "        \n",
    "        # Q_{pred}(S_t, A_t)\n",
    "        Q_preds = self.q_pred_network(states).gather(1, actions)\n",
    "        \n",
    "        # Minimize the MSE of action-values\n",
    "        loss = F.mse_loss(Q_preds, Q_targets)\n",
    "        self.optimizer.zero_grad()\n",
    "        loss.backward()\n",
    "        self.optimizer.step()\n",
    "        \n",
    "        self.soft_update(self.q_pred_network, self.q_target_network, TAU)\n",
    "    \n",
    "    def soft_update(self, pred_network, target_network, tau):\n",
    "        for pred_param, target_param in zip(\n",
    "            pred_network.parameters(), target_network.parameters()):\n",
    "            target_param.data.copy_(\n",
    "                (1.0 - tau) * target_param.data + tau * pred_param.data)\n"
   ]
  },
  {
   "cell_type": "code",
   "execution_count": 13,
   "metadata": {},
   "outputs": [],
   "source": [
    "agent = Agent(state_size, action_size)"
   ]
  },
  {
   "cell_type": "code",
   "execution_count": 18,
   "metadata": {},
   "outputs": [],
   "source": [
    "WINDOW = 100"
   ]
  },
  {
   "cell_type": "code",
   "execution_count": 19,
   "metadata": {},
   "outputs": [
    {
     "name": "stdout",
     "output_type": "stream",
     "text": [
      "Episode: 100, Average Score: 0.541515151515151546\n",
      "Episode: 200, Average Score: 4.65\n",
      "Episode: 300, Average Score: 7.99\n",
      "Episode: 400, Average Score: 10.48\n",
      "Episode: 500, Average Score: 12.74\n",
      "Environment solved in 408 episodes, Average Score 13.01\n"
     ]
    }
   ],
   "source": [
    "def run(n_episodes=2000, max_t=300, max_eps=1.0, min_eps=0.01, eps_decay=0.995):\n",
    "    scores = []\n",
    "    scores_window = deque(maxlen=WINDOW)\n",
    "    eps = max_eps\n",
    "    \n",
    "    for i in range(1, n_episodes+1):\n",
    "        \n",
    "        env_info = env.reset(train_mode=True)[brain_name] \n",
    "        state = env_info.vector_observations[0]\n",
    "        score = 0\n",
    "        \n",
    "        for j in range(max_t):\n",
    "            action = agent.sample(state, eps)\n",
    "            \n",
    "            env_info = env.step(action)[brain_name]\n",
    "            next_state = env_info.vector_observations[0]\n",
    "            reward = env_info.rewards[0]                   \n",
    "            done = env_info.local_done[0]  \n",
    "            \n",
    "            agent.step(state, action, reward, next_state, done)\n",
    "            \n",
    "            score += reward   \n",
    "            state = next_state \n",
    "            \n",
    "            if done:\n",
    "                break\n",
    "        \n",
    "        scores.append(score)\n",
    "        scores_window.append(score)\n",
    "        eps = max(eps * eps_decay, min_eps)\n",
    "        print(f\"\\rEpisode: {i}, Average Score: {np.mean(scores_window)}\", end=\"\")\n",
    "        \n",
    "        if i % WINDOW == 0:\n",
    "            print(f\"\\rEpisode: {i}, Average Score: {np.mean(scores_window)}\")\n",
    "        \n",
    "        if np.mean(scores_window) >= 13.:\n",
    "            print(f\"\\rEnvironment solved in {i-100} episodes, Average Score {np.mean(scores_window)}\")\n",
    "            torch.save(agent.q_pred_network.state_dict(), 'checkpoint.pth')\n",
    "            break\n",
    "            \n",
    "    return scores\n",
    "\n",
    "scores = run()"
   ]
  },
  {
   "cell_type": "code",
   "execution_count": 41,
   "metadata": {},
   "outputs": [
    {
     "data": {
      "image/png": "[encoded data removed]",
      "text/plain": [
       "<Figure size 432x288 with 1 Axes>"
      ]
     },
     "metadata": {
      "needs_background": "light"
     },
     "output_type": "display_data"
    }
   ],
   "source": [
    "import matplotlib.pyplot as plt\n",
    "import pandas as pd\n",
    "\n",
    "fig, ax = plt.subplots()\n",
    "ax.plot(scores)\n",
    "ax.plot(pd.DataFrame(scores).rolling(20).mean(), color='r', linestyle='--');"
   ]
  },
  {
   "cell_type": "markdown",
   "metadata": {},
   "source": [
    "Next we are going to load the saved trained weights and see how does the agent perform"
   ]
  },
  {
   "cell_type": "code",
   "execution_count": 42,
   "metadata": {},
   "outputs": [],
   "source": [
    "agent = Agent(state_size, action_size)\n",
    "\n",
    "agent.q_pred_network.load_state_dict(\n",
    "    torch.load('checkpoint.pth'))"
   ]
  },
  {
   "cell_type": "code",
   "execution_count": 45,
   "metadata": {},
   "outputs": [
    {
     "name": "stdout",
     "output_type": "stream",
     "text": [
      "Score: 20.0\n"
     ]
    }
   ],
   "source": [
    "env_info = env.reset(train_mode=False)[brain_name] \n",
    "state = env_info.vector_observations[0]            \n",
    "score = 0                                          \n",
    "while True:\n",
    "    action = agent.sample(state, 0)        \n",
    "    env_info = env.step(action)[brain_name]        \n",
    "    next_state = env_info.vector_observations[0]   \n",
    "    reward = env_info.rewards[0]                   \n",
    "    done = env_info.local_done[0]                  \n",
    "    score += reward                                \n",
    "    state = next_state                             \n",
    "    if done:                                       \n",
    "        break\n",
    "    \n",
    "print(\"Score: {}\".format(score))"
   ]
  },
  {
   "cell_type": "markdown",
   "metadata": {},
   "source": [
    "Not bad! You can see the agent in action in the youtube video below"
   ]
  },
  {
   "cell_type": "code",
   "execution_count": 2,
   "metadata": {},
   "outputs": [
    {
     "data": {
      "image/jpeg": "[encoded data removed]",
      "text/html": [
       "\n",
       "        <iframe\n",
       "            width=\"400\"\n",
       "            height=\"300\"\n",
       "            src=\"https://www.youtube.com/embed/IPRzAoFQXUc\"\n",
       "            frameborder=\"0\"\n",
       "            allowfullscreen\n",
       "        ></iframe>\n",
       "        "
      ],
      "text/plain": [
       "<IPython.lib.display.YouTubeVideo at 0x7f8b2e1ce4a8>"
      ]
     },
     "execution_count": 2,
     "metadata": {},
     "output_type": "execute_result"
    }
   ],
   "source": [
    "# https://youtu.be/IPRzAoFQXUc\n",
    "from IPython.display import YouTubeVideo\n",
    "YouTubeVideo('IPRzAoFQXUc')"
   ]
  },
  {
   "cell_type": "code",
   "execution_count": null,
   "metadata": {},
   "outputs": [],
   "source": []
  }
 ],
 "metadata": {
  "kernelspec": {
   "display_name": "drlnd",
   "language": "python",
   "name": "drlnd"
  },
  "language_info": {
   "codemirror_mode": {
    "name": "ipython",
    "version": 3
   },
   "file_extension": ".py",
   "mimetype": "text/x-python",
   "name": "python",
   "nbconvert_exporter": "python",
   "pygments_lexer": "ipython3",
   "version": "3.6.12"
  }
 },
 "nbformat": 4,
 "nbformat_minor": 2
}
